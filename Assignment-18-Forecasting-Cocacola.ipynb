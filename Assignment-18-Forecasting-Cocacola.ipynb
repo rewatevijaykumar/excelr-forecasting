{
 "cells": [
  {
   "cell_type": "markdown",
   "metadata": {},
   "source": [
    "# Assignment-18-Forecasting-Cocacola"
   ]
  },
  {
   "cell_type": "code",
   "execution_count": 1,
   "metadata": {},
   "outputs": [],
   "source": [
    "# load libraries\n",
    "import pandas as pd\n",
    "import numpy as np\n",
    "import category_encoders as ce\n",
    "import matplotlib.pyplot as plt\n",
    "import seaborn as sns\n",
    "from statsmodels.tsa.seasonal import seasonal_decompose\n",
    "from sklearn.metrics import mean_squared_error\n",
    "from statsmodels.tsa.holtwinters import SimpleExpSmoothing\n",
    "from statsmodels.tsa.holtwinters import Holt\n",
    "from statsmodels.tsa.holtwinters import ExponentialSmoothing \n",
    "import statsmodels.formula.api as smf\n",
    "import warnings\n",
    "warnings.filterwarnings('ignore')"
   ]
  },
  {
   "cell_type": "code",
   "execution_count": 2,
   "metadata": {},
   "outputs": [
    {
     "data": {
      "text/html": [
       "<div>\n",
       "<style scoped>\n",
       "    .dataframe tbody tr th:only-of-type {\n",
       "        vertical-align: middle;\n",
       "    }\n",
       "\n",
       "    .dataframe tbody tr th {\n",
       "        vertical-align: top;\n",
       "    }\n",
       "\n",
       "    .dataframe thead th {\n",
       "        text-align: right;\n",
       "    }\n",
       "</style>\n",
       "<table border=\"1\" class=\"dataframe\">\n",
       "  <thead>\n",
       "    <tr style=\"text-align: right;\">\n",
       "      <th></th>\n",
       "      <th>Quarter</th>\n",
       "      <th>Sales</th>\n",
       "    </tr>\n",
       "  </thead>\n",
       "  <tbody>\n",
       "    <tr>\n",
       "      <th>0</th>\n",
       "      <td>Q1_86</td>\n",
       "      <td>1734.827000</td>\n",
       "    </tr>\n",
       "    <tr>\n",
       "      <th>1</th>\n",
       "      <td>Q2_86</td>\n",
       "      <td>2244.960999</td>\n",
       "    </tr>\n",
       "    <tr>\n",
       "      <th>2</th>\n",
       "      <td>Q3_86</td>\n",
       "      <td>2533.804993</td>\n",
       "    </tr>\n",
       "    <tr>\n",
       "      <th>3</th>\n",
       "      <td>Q4_86</td>\n",
       "      <td>2154.962997</td>\n",
       "    </tr>\n",
       "    <tr>\n",
       "      <th>4</th>\n",
       "      <td>Q1_87</td>\n",
       "      <td>1547.818996</td>\n",
       "    </tr>\n",
       "  </tbody>\n",
       "</table>\n",
       "</div>"
      ],
      "text/plain": [
       "  Quarter        Sales\n",
       "0   Q1_86  1734.827000\n",
       "1   Q2_86  2244.960999\n",
       "2   Q3_86  2533.804993\n",
       "3   Q4_86  2154.962997\n",
       "4   Q1_87  1547.818996"
      ]
     },
     "execution_count": 2,
     "metadata": {},
     "output_type": "execute_result"
    }
   ],
   "source": [
    "# read dataset\n",
    "df = pd.read_excel('CocaCola_Sales_Rawdata.xlsx')\n",
    "df.head()"
   ]
  },
  {
   "cell_type": "code",
   "execution_count": 3,
   "metadata": {},
   "outputs": [
    {
     "name": "stdout",
     "output_type": "stream",
     "text": [
      "<class 'pandas.core.frame.DataFrame'>\n",
      "RangeIndex: 42 entries, 0 to 41\n",
      "Data columns (total 2 columns):\n",
      " #   Column   Non-Null Count  Dtype  \n",
      "---  ------   --------------  -----  \n",
      " 0   Quarter  42 non-null     object \n",
      " 1   Sales    42 non-null     float64\n",
      "dtypes: float64(1), object(1)\n",
      "memory usage: 800.0+ bytes\n"
     ]
    }
   ],
   "source": [
    "df.info()"
   ]
  },
  {
   "cell_type": "code",
   "execution_count": 4,
   "metadata": {},
   "outputs": [
    {
     "data": {
      "text/html": [
       "<div>\n",
       "<style scoped>\n",
       "    .dataframe tbody tr th:only-of-type {\n",
       "        vertical-align: middle;\n",
       "    }\n",
       "\n",
       "    .dataframe tbody tr th {\n",
       "        vertical-align: top;\n",
       "    }\n",
       "\n",
       "    .dataframe thead th {\n",
       "        text-align: right;\n",
       "    }\n",
       "</style>\n",
       "<table border=\"1\" class=\"dataframe\">\n",
       "  <thead>\n",
       "    <tr style=\"text-align: right;\">\n",
       "      <th></th>\n",
       "      <th>Quarter</th>\n",
       "      <th>Sales</th>\n",
       "    </tr>\n",
       "  </thead>\n",
       "  <tbody>\n",
       "    <tr>\n",
       "      <th>37</th>\n",
       "      <td>Q2_95</td>\n",
       "      <td>4936.0</td>\n",
       "    </tr>\n",
       "    <tr>\n",
       "      <th>38</th>\n",
       "      <td>Q3_95</td>\n",
       "      <td>4895.0</td>\n",
       "    </tr>\n",
       "    <tr>\n",
       "      <th>39</th>\n",
       "      <td>Q4_95</td>\n",
       "      <td>4333.0</td>\n",
       "    </tr>\n",
       "    <tr>\n",
       "      <th>40</th>\n",
       "      <td>Q1_96</td>\n",
       "      <td>4194.0</td>\n",
       "    </tr>\n",
       "    <tr>\n",
       "      <th>41</th>\n",
       "      <td>Q2_96</td>\n",
       "      <td>5253.0</td>\n",
       "    </tr>\n",
       "  </tbody>\n",
       "</table>\n",
       "</div>"
      ],
      "text/plain": [
       "   Quarter   Sales\n",
       "37   Q2_95  4936.0\n",
       "38   Q3_95  4895.0\n",
       "39   Q4_95  4333.0\n",
       "40   Q1_96  4194.0\n",
       "41   Q2_96  5253.0"
      ]
     },
     "execution_count": 4,
     "metadata": {},
     "output_type": "execute_result"
    }
   ],
   "source": [
    "df.tail()"
   ]
  },
  {
   "cell_type": "code",
   "execution_count": 5,
   "metadata": {},
   "outputs": [],
   "source": [
    "# replace _ with space\n",
    "df['Quarter'] = df['Quarter'].str.replace('_',' ')"
   ]
  },
  {
   "cell_type": "code",
   "execution_count": 6,
   "metadata": {},
   "outputs": [],
   "source": [
    "#qs = df['Quarter'].str.replace(r'(Q\\d) (\\d+)', r'19\\2-\\1')\n",
    "#df['date']= pd.PeriodIndex(qs, freq='Q').to_timestamp()"
   ]
  },
  {
   "cell_type": "code",
   "execution_count": 7,
   "metadata": {},
   "outputs": [
    {
     "data": {
      "text/html": [
       "<div>\n",
       "<style scoped>\n",
       "    .dataframe tbody tr th:only-of-type {\n",
       "        vertical-align: middle;\n",
       "    }\n",
       "\n",
       "    .dataframe tbody tr th {\n",
       "        vertical-align: top;\n",
       "    }\n",
       "\n",
       "    .dataframe thead th {\n",
       "        text-align: right;\n",
       "    }\n",
       "</style>\n",
       "<table border=\"1\" class=\"dataframe\">\n",
       "  <thead>\n",
       "    <tr style=\"text-align: right;\">\n",
       "      <th></th>\n",
       "      <th>Quarter</th>\n",
       "      <th>Sales</th>\n",
       "    </tr>\n",
       "  </thead>\n",
       "  <tbody>\n",
       "    <tr>\n",
       "      <th>0</th>\n",
       "      <td>1986-01-01</td>\n",
       "      <td>1734.827000</td>\n",
       "    </tr>\n",
       "    <tr>\n",
       "      <th>1</th>\n",
       "      <td>1986-04-01</td>\n",
       "      <td>2244.960999</td>\n",
       "    </tr>\n",
       "    <tr>\n",
       "      <th>2</th>\n",
       "      <td>1986-07-01</td>\n",
       "      <td>2533.804993</td>\n",
       "    </tr>\n",
       "    <tr>\n",
       "      <th>3</th>\n",
       "      <td>1986-10-01</td>\n",
       "      <td>2154.962997</td>\n",
       "    </tr>\n",
       "    <tr>\n",
       "      <th>4</th>\n",
       "      <td>1987-01-01</td>\n",
       "      <td>1547.818996</td>\n",
       "    </tr>\n",
       "    <tr>\n",
       "      <th>5</th>\n",
       "      <td>1987-04-01</td>\n",
       "      <td>2104.411995</td>\n",
       "    </tr>\n",
       "    <tr>\n",
       "      <th>6</th>\n",
       "      <td>1987-07-01</td>\n",
       "      <td>2014.362999</td>\n",
       "    </tr>\n",
       "    <tr>\n",
       "      <th>7</th>\n",
       "      <td>1987-10-01</td>\n",
       "      <td>1991.746998</td>\n",
       "    </tr>\n",
       "    <tr>\n",
       "      <th>8</th>\n",
       "      <td>1988-01-01</td>\n",
       "      <td>1869.049999</td>\n",
       "    </tr>\n",
       "    <tr>\n",
       "      <th>9</th>\n",
       "      <td>1988-04-01</td>\n",
       "      <td>2313.631996</td>\n",
       "    </tr>\n",
       "    <tr>\n",
       "      <th>10</th>\n",
       "      <td>1988-07-01</td>\n",
       "      <td>2128.320000</td>\n",
       "    </tr>\n",
       "    <tr>\n",
       "      <th>11</th>\n",
       "      <td>1988-10-01</td>\n",
       "      <td>2026.828999</td>\n",
       "    </tr>\n",
       "    <tr>\n",
       "      <th>12</th>\n",
       "      <td>1989-01-01</td>\n",
       "      <td>1910.603996</td>\n",
       "    </tr>\n",
       "    <tr>\n",
       "      <th>13</th>\n",
       "      <td>1989-04-01</td>\n",
       "      <td>2331.164993</td>\n",
       "    </tr>\n",
       "    <tr>\n",
       "      <th>14</th>\n",
       "      <td>1989-07-01</td>\n",
       "      <td>2206.549995</td>\n",
       "    </tr>\n",
       "    <tr>\n",
       "      <th>15</th>\n",
       "      <td>1989-10-01</td>\n",
       "      <td>2173.967995</td>\n",
       "    </tr>\n",
       "    <tr>\n",
       "      <th>16</th>\n",
       "      <td>1990-01-01</td>\n",
       "      <td>2148.278000</td>\n",
       "    </tr>\n",
       "    <tr>\n",
       "      <th>17</th>\n",
       "      <td>1990-04-01</td>\n",
       "      <td>2739.307999</td>\n",
       "    </tr>\n",
       "    <tr>\n",
       "      <th>18</th>\n",
       "      <td>1990-07-01</td>\n",
       "      <td>2792.753998</td>\n",
       "    </tr>\n",
       "    <tr>\n",
       "      <th>19</th>\n",
       "      <td>1990-10-01</td>\n",
       "      <td>2556.009995</td>\n",
       "    </tr>\n",
       "    <tr>\n",
       "      <th>20</th>\n",
       "      <td>1991-01-01</td>\n",
       "      <td>2480.973999</td>\n",
       "    </tr>\n",
       "    <tr>\n",
       "      <th>21</th>\n",
       "      <td>1991-04-01</td>\n",
       "      <td>3039.522995</td>\n",
       "    </tr>\n",
       "    <tr>\n",
       "      <th>22</th>\n",
       "      <td>1991-07-01</td>\n",
       "      <td>3172.115997</td>\n",
       "    </tr>\n",
       "    <tr>\n",
       "      <th>23</th>\n",
       "      <td>1991-10-01</td>\n",
       "      <td>2879.000999</td>\n",
       "    </tr>\n",
       "    <tr>\n",
       "      <th>24</th>\n",
       "      <td>1992-01-01</td>\n",
       "      <td>2772.000000</td>\n",
       "    </tr>\n",
       "    <tr>\n",
       "      <th>25</th>\n",
       "      <td>1992-04-01</td>\n",
       "      <td>3550.000000</td>\n",
       "    </tr>\n",
       "    <tr>\n",
       "      <th>26</th>\n",
       "      <td>1992-07-01</td>\n",
       "      <td>3508.000000</td>\n",
       "    </tr>\n",
       "    <tr>\n",
       "      <th>27</th>\n",
       "      <td>1992-10-01</td>\n",
       "      <td>3243.859993</td>\n",
       "    </tr>\n",
       "    <tr>\n",
       "      <th>28</th>\n",
       "      <td>1993-01-01</td>\n",
       "      <td>3056.000000</td>\n",
       "    </tr>\n",
       "    <tr>\n",
       "      <th>29</th>\n",
       "      <td>1993-04-01</td>\n",
       "      <td>3899.000000</td>\n",
       "    </tr>\n",
       "    <tr>\n",
       "      <th>30</th>\n",
       "      <td>1993-07-01</td>\n",
       "      <td>3629.000000</td>\n",
       "    </tr>\n",
       "    <tr>\n",
       "      <th>31</th>\n",
       "      <td>1993-10-01</td>\n",
       "      <td>3373.000000</td>\n",
       "    </tr>\n",
       "    <tr>\n",
       "      <th>32</th>\n",
       "      <td>1994-01-01</td>\n",
       "      <td>3352.000000</td>\n",
       "    </tr>\n",
       "    <tr>\n",
       "      <th>33</th>\n",
       "      <td>1994-04-01</td>\n",
       "      <td>4342.000000</td>\n",
       "    </tr>\n",
       "    <tr>\n",
       "      <th>34</th>\n",
       "      <td>1994-07-01</td>\n",
       "      <td>4461.000000</td>\n",
       "    </tr>\n",
       "    <tr>\n",
       "      <th>35</th>\n",
       "      <td>1994-10-01</td>\n",
       "      <td>4017.000000</td>\n",
       "    </tr>\n",
       "    <tr>\n",
       "      <th>36</th>\n",
       "      <td>1995-01-01</td>\n",
       "      <td>3854.000000</td>\n",
       "    </tr>\n",
       "    <tr>\n",
       "      <th>37</th>\n",
       "      <td>1995-04-01</td>\n",
       "      <td>4936.000000</td>\n",
       "    </tr>\n",
       "    <tr>\n",
       "      <th>38</th>\n",
       "      <td>1995-07-01</td>\n",
       "      <td>4895.000000</td>\n",
       "    </tr>\n",
       "    <tr>\n",
       "      <th>39</th>\n",
       "      <td>1995-10-01</td>\n",
       "      <td>4333.000000</td>\n",
       "    </tr>\n",
       "    <tr>\n",
       "      <th>40</th>\n",
       "      <td>1996-01-01</td>\n",
       "      <td>4194.000000</td>\n",
       "    </tr>\n",
       "    <tr>\n",
       "      <th>41</th>\n",
       "      <td>1996-04-01</td>\n",
       "      <td>5253.000000</td>\n",
       "    </tr>\n",
       "  </tbody>\n",
       "</table>\n",
       "</div>"
      ],
      "text/plain": [
       "      Quarter        Sales\n",
       "0  1986-01-01  1734.827000\n",
       "1  1986-04-01  2244.960999\n",
       "2  1986-07-01  2533.804993\n",
       "3  1986-10-01  2154.962997\n",
       "4  1987-01-01  1547.818996\n",
       "5  1987-04-01  2104.411995\n",
       "6  1987-07-01  2014.362999\n",
       "7  1987-10-01  1991.746998\n",
       "8  1988-01-01  1869.049999\n",
       "9  1988-04-01  2313.631996\n",
       "10 1988-07-01  2128.320000\n",
       "11 1988-10-01  2026.828999\n",
       "12 1989-01-01  1910.603996\n",
       "13 1989-04-01  2331.164993\n",
       "14 1989-07-01  2206.549995\n",
       "15 1989-10-01  2173.967995\n",
       "16 1990-01-01  2148.278000\n",
       "17 1990-04-01  2739.307999\n",
       "18 1990-07-01  2792.753998\n",
       "19 1990-10-01  2556.009995\n",
       "20 1991-01-01  2480.973999\n",
       "21 1991-04-01  3039.522995\n",
       "22 1991-07-01  3172.115997\n",
       "23 1991-10-01  2879.000999\n",
       "24 1992-01-01  2772.000000\n",
       "25 1992-04-01  3550.000000\n",
       "26 1992-07-01  3508.000000\n",
       "27 1992-10-01  3243.859993\n",
       "28 1993-01-01  3056.000000\n",
       "29 1993-04-01  3899.000000\n",
       "30 1993-07-01  3629.000000\n",
       "31 1993-10-01  3373.000000\n",
       "32 1994-01-01  3352.000000\n",
       "33 1994-04-01  4342.000000\n",
       "34 1994-07-01  4461.000000\n",
       "35 1994-10-01  4017.000000\n",
       "36 1995-01-01  3854.000000\n",
       "37 1995-04-01  4936.000000\n",
       "38 1995-07-01  4895.000000\n",
       "39 1995-10-01  4333.000000\n",
       "40 1996-01-01  4194.000000\n",
       "41 1996-04-01  5253.000000"
      ]
     },
     "execution_count": 7,
     "metadata": {},
     "output_type": "execute_result"
    }
   ],
   "source": [
    "df['Quarter'] = pd.to_datetime(\n",
    "    df['Quarter'].str.replace(r'(Q\\d) (\\d+)', r'19\\2-\\1'), errors='coerce')\n",
    "df"
   ]
  },
  {
   "cell_type": "code",
   "execution_count": 8,
   "metadata": {},
   "outputs": [
    {
     "name": "stdout",
     "output_type": "stream",
     "text": [
      "<class 'pandas.core.frame.DataFrame'>\n",
      "RangeIndex: 42 entries, 0 to 41\n",
      "Data columns (total 2 columns):\n",
      " #   Column   Non-Null Count  Dtype         \n",
      "---  ------   --------------  -----         \n",
      " 0   Quarter  42 non-null     datetime64[ns]\n",
      " 1   Sales    42 non-null     float64       \n",
      "dtypes: datetime64[ns](1), float64(1)\n",
      "memory usage: 800.0 bytes\n"
     ]
    }
   ],
   "source": [
    "df.info()"
   ]
  },
  {
   "cell_type": "code",
   "execution_count": 9,
   "metadata": {},
   "outputs": [
    {
     "data": {
      "text/html": [
       "<div>\n",
       "<style scoped>\n",
       "    .dataframe tbody tr th:only-of-type {\n",
       "        vertical-align: middle;\n",
       "    }\n",
       "\n",
       "    .dataframe tbody tr th {\n",
       "        vertical-align: top;\n",
       "    }\n",
       "\n",
       "    .dataframe thead th {\n",
       "        text-align: right;\n",
       "    }\n",
       "</style>\n",
       "<table border=\"1\" class=\"dataframe\">\n",
       "  <thead>\n",
       "    <tr style=\"text-align: right;\">\n",
       "      <th></th>\n",
       "      <th>count</th>\n",
       "      <th>mean</th>\n",
       "      <th>std</th>\n",
       "      <th>min</th>\n",
       "      <th>25%</th>\n",
       "      <th>50%</th>\n",
       "      <th>75%</th>\n",
       "      <th>max</th>\n",
       "    </tr>\n",
       "  </thead>\n",
       "  <tbody>\n",
       "    <tr>\n",
       "      <th>Sales</th>\n",
       "      <td>42.0</td>\n",
       "      <td>2994.353308</td>\n",
       "      <td>977.930896</td>\n",
       "      <td>1547.818996</td>\n",
       "      <td>2159.714247</td>\n",
       "      <td>2782.376999</td>\n",
       "      <td>3609.25</td>\n",
       "      <td>5253.0</td>\n",
       "    </tr>\n",
       "  </tbody>\n",
       "</table>\n",
       "</div>"
      ],
      "text/plain": [
       "       count         mean         std          min          25%          50%  \\\n",
       "Sales   42.0  2994.353308  977.930896  1547.818996  2159.714247  2782.376999   \n",
       "\n",
       "           75%     max  \n",
       "Sales  3609.25  5253.0  "
      ]
     },
     "execution_count": 9,
     "metadata": {},
     "output_type": "execute_result"
    }
   ],
   "source": [
    "df.describe().T"
   ]
  },
  {
   "cell_type": "code",
   "execution_count": 10,
   "metadata": {},
   "outputs": [],
   "source": [
    "# Extract Quarter\n",
    "df['quarter'] = df['Quarter'].dt.strftime('%b')\n",
    "# Extract Year\n",
    "df['year'] = df['Quarter'].dt.strftime('%Y')"
   ]
  },
  {
   "cell_type": "code",
   "execution_count": 11,
   "metadata": {},
   "outputs": [
    {
     "data": {
      "text/html": [
       "<div>\n",
       "<style scoped>\n",
       "    .dataframe tbody tr th:only-of-type {\n",
       "        vertical-align: middle;\n",
       "    }\n",
       "\n",
       "    .dataframe tbody tr th {\n",
       "        vertical-align: top;\n",
       "    }\n",
       "\n",
       "    .dataframe thead th {\n",
       "        text-align: right;\n",
       "    }\n",
       "</style>\n",
       "<table border=\"1\" class=\"dataframe\">\n",
       "  <thead>\n",
       "    <tr style=\"text-align: right;\">\n",
       "      <th></th>\n",
       "      <th>Quarter</th>\n",
       "      <th>Sales</th>\n",
       "      <th>quarter</th>\n",
       "      <th>year</th>\n",
       "    </tr>\n",
       "  </thead>\n",
       "  <tbody>\n",
       "    <tr>\n",
       "      <th>37</th>\n",
       "      <td>1995-04-01</td>\n",
       "      <td>4936.0</td>\n",
       "      <td>Apr</td>\n",
       "      <td>1995</td>\n",
       "    </tr>\n",
       "    <tr>\n",
       "      <th>38</th>\n",
       "      <td>1995-07-01</td>\n",
       "      <td>4895.0</td>\n",
       "      <td>Jul</td>\n",
       "      <td>1995</td>\n",
       "    </tr>\n",
       "    <tr>\n",
       "      <th>39</th>\n",
       "      <td>1995-10-01</td>\n",
       "      <td>4333.0</td>\n",
       "      <td>Oct</td>\n",
       "      <td>1995</td>\n",
       "    </tr>\n",
       "    <tr>\n",
       "      <th>40</th>\n",
       "      <td>1996-01-01</td>\n",
       "      <td>4194.0</td>\n",
       "      <td>Jan</td>\n",
       "      <td>1996</td>\n",
       "    </tr>\n",
       "    <tr>\n",
       "      <th>41</th>\n",
       "      <td>1996-04-01</td>\n",
       "      <td>5253.0</td>\n",
       "      <td>Apr</td>\n",
       "      <td>1996</td>\n",
       "    </tr>\n",
       "  </tbody>\n",
       "</table>\n",
       "</div>"
      ],
      "text/plain": [
       "      Quarter   Sales quarter  year\n",
       "37 1995-04-01  4936.0     Apr  1995\n",
       "38 1995-07-01  4895.0     Jul  1995\n",
       "39 1995-10-01  4333.0     Oct  1995\n",
       "40 1996-01-01  4194.0     Jan  1996\n",
       "41 1996-04-01  5253.0     Apr  1996"
      ]
     },
     "execution_count": 11,
     "metadata": {},
     "output_type": "execute_result"
    }
   ],
   "source": [
    "df.tail()"
   ]
  },
  {
   "cell_type": "code",
   "execution_count": 12,
   "metadata": {},
   "outputs": [
    {
     "data": {
      "text/plain": [
       "<AxesSubplot:xlabel='quarter', ylabel='year'>"
      ]
     },
     "execution_count": 12,
     "metadata": {},
     "output_type": "execute_result"
    },
    {
     "data": {
      "image/png": "[encoded data removed]",
      "text/plain": [
       "<Figure size 864x576 with 2 Axes>"
      ]
     },
     "metadata": {
      "needs_background": "light"
     },
     "output_type": "display_data"
    }
   ],
   "source": [
    "plt.figure(figsize=(12,8))\n",
    "heatmap_y_month = pd.pivot_table(data=df,values=\"Sales\",index=\"year\",columns=\"quarter\",aggfunc=\"mean\",fill_value=0)\n",
    "sns.heatmap(heatmap_y_month,annot=True,fmt=\"g\")"
   ]
  },
  {
   "cell_type": "code",
   "execution_count": 13,
   "metadata": {},
   "outputs": [
    {
     "data": {
      "text/plain": [
       "<AxesSubplot:xlabel='quarter', ylabel='Sales'>"
      ]
     },
     "execution_count": 13,
     "metadata": {},
     "output_type": "execute_result"
    },
    {
     "data": {
      "image/png": "[encoded data removed]",
      "text/plain": [
       "<Figure size 432x288 with 1 Axes>"
      ]
     },
     "metadata": {
      "needs_background": "light"
     },
     "output_type": "display_data"
    }
   ],
   "source": [
    "# Boxplots\n",
    "sns.boxplot(x=\"quarter\",y=\"Sales\",data=df)"
   ]
  },
  {
   "cell_type": "code",
   "execution_count": 14,
   "metadata": {},
   "outputs": [
    {
     "data": {
      "text/plain": [
       "<AxesSubplot:xlabel='year', ylabel='Sales'>"
      ]
     },
     "execution_count": 14,
     "metadata": {},
     "output_type": "execute_result"
    },
    {
     "data": {
      "image/png": "[encoded data removed]",
      "text/plain": [
       "<Figure size 432x288 with 1 Axes>"
      ]
     },
     "metadata": {
      "needs_background": "light"
     },
     "output_type": "display_data"
    }
   ],
   "source": [
    "sns.boxplot(x=\"year\",y=\"Sales\",data=df)"
   ]
  },
  {
   "cell_type": "code",
   "execution_count": 15,
   "metadata": {},
   "outputs": [
    {
     "data": {
      "text/plain": [
       "<AxesSubplot:xlabel='year', ylabel='Sales'>"
      ]
     },
     "execution_count": 15,
     "metadata": {},
     "output_type": "execute_result"
    },
    {
     "data": {
      "image/png": "[encoded data removed]",
      "text/plain": [
       "<Figure size 432x288 with 1 Axes>"
      ]
     },
     "metadata": {
      "needs_background": "light"
     },
     "output_type": "display_data"
    }
   ],
   "source": [
    "sns.lineplot(x='year',y='Sales',hue='quarter',data=df)"
   ]
  },
  {
   "cell_type": "code",
   "execution_count": 16,
   "metadata": {},
   "outputs": [
    {
     "data": {
      "text/plain": [
       "<matplotlib.legend.Legend at 0x7fcd7b7f5a60>"
      ]
     },
     "execution_count": 16,
     "metadata": {},
     "output_type": "execute_result"
    },
    {
     "data": {
      "image/png": "[encoded data removed]",
      "text/plain": [
       "<Figure size 864x288 with 1 Axes>"
      ]
     },
     "metadata": {
      "needs_background": "light"
     },
     "output_type": "display_data"
    }
   ],
   "source": [
    "# Moving Average\n",
    "plt.figure(figsize=(12,4))\n",
    "df.Sales.plot(label=\"org\")\n",
    "for i in range(2,24,6):\n",
    "    df[\"Sales\"].rolling(i).mean().plot(label=str(i))\n",
    "plt.legend(loc='best')"
   ]
  },
  {
   "cell_type": "code",
   "execution_count": 17,
   "metadata": {},
   "outputs": [
    {
     "data": {
      "image/png": "[encoded data removed]",
      "text/plain": [
       "<Figure size 432x288 with 4 Axes>"
      ]
     },
     "metadata": {
      "needs_background": "light"
     },
     "output_type": "display_data"
    }
   ],
   "source": [
    "# Time series decomposition plot\n",
    "decompose_result = seasonal_decompose(df.Sales,period=4)\n",
    "decompose_result.plot()\n",
    "plt.show()"
   ]
  },
  {
   "cell_type": "code",
   "execution_count": 18,
   "metadata": {},
   "outputs": [
    {
     "data": {
      "image/png": "[encoded data removed]",
      "text/plain": [
       "<Figure size 432x288 with 1 Axes>"
      ]
     },
     "metadata": {
      "needs_background": "light"
     },
     "output_type": "display_data"
    },
    {
     "data": {
      "image/png": "[encoded data removed]",
      "text/plain": [
       "<Figure size 432x288 with 1 Axes>"
      ]
     },
     "metadata": {
      "needs_background": "light"
     },
     "output_type": "display_data"
    }
   ],
   "source": [
    "# ACF plots and PACF plots\n",
    "import statsmodels.graphics.tsaplots as tsa_plots\n",
    "tsa_plots.plot_acf(df.Sales,lags=12)\n",
    "tsa_plots.plot_pacf(df.Sales,lags=12)\n",
    "plt.show()"
   ]
  },
  {
   "cell_type": "code",
   "execution_count": 19,
   "metadata": {},
   "outputs": [],
   "source": [
    "df[\"t\"] = np.arange(1,len(df)+1)\n",
    "df[\"t_squared\"] = df[\"t\"]*df[\"t\"]\n",
    "df[\"log_Sales\"] = np.log(df[\"Sales\"])"
   ]
  },
  {
   "cell_type": "code",
   "execution_count": 20,
   "metadata": {},
   "outputs": [],
   "source": [
    "df['year'] = df['year'].astype(int)"
   ]
  },
  {
   "cell_type": "code",
   "execution_count": 21,
   "metadata": {},
   "outputs": [
    {
     "data": {
      "text/html": [
       "<div>\n",
       "<style scoped>\n",
       "    .dataframe tbody tr th:only-of-type {\n",
       "        vertical-align: middle;\n",
       "    }\n",
       "\n",
       "    .dataframe tbody tr th {\n",
       "        vertical-align: top;\n",
       "    }\n",
       "\n",
       "    .dataframe thead th {\n",
       "        text-align: right;\n",
       "    }\n",
       "</style>\n",
       "<table border=\"1\" class=\"dataframe\">\n",
       "  <thead>\n",
       "    <tr style=\"text-align: right;\">\n",
       "      <th></th>\n",
       "      <th>Quarter</th>\n",
       "      <th>Sales</th>\n",
       "      <th>quarter_1</th>\n",
       "      <th>quarter_2</th>\n",
       "      <th>quarter_3</th>\n",
       "      <th>quarter_4</th>\n",
       "      <th>year</th>\n",
       "      <th>t</th>\n",
       "      <th>t_squared</th>\n",
       "      <th>log_Sales</th>\n",
       "    </tr>\n",
       "  </thead>\n",
       "  <tbody>\n",
       "    <tr>\n",
       "      <th>0</th>\n",
       "      <td>1986-01-01</td>\n",
       "      <td>1734.827000</td>\n",
       "      <td>1</td>\n",
       "      <td>0</td>\n",
       "      <td>0</td>\n",
       "      <td>0</td>\n",
       "      <td>1986</td>\n",
       "      <td>1</td>\n",
       "      <td>1</td>\n",
       "      <td>7.458663</td>\n",
       "    </tr>\n",
       "    <tr>\n",
       "      <th>1</th>\n",
       "      <td>1986-04-01</td>\n",
       "      <td>2244.960999</td>\n",
       "      <td>0</td>\n",
       "      <td>1</td>\n",
       "      <td>0</td>\n",
       "      <td>0</td>\n",
       "      <td>1986</td>\n",
       "      <td>2</td>\n",
       "      <td>4</td>\n",
       "      <td>7.716443</td>\n",
       "    </tr>\n",
       "    <tr>\n",
       "      <th>2</th>\n",
       "      <td>1986-07-01</td>\n",
       "      <td>2533.804993</td>\n",
       "      <td>0</td>\n",
       "      <td>0</td>\n",
       "      <td>1</td>\n",
       "      <td>0</td>\n",
       "      <td>1986</td>\n",
       "      <td>3</td>\n",
       "      <td>9</td>\n",
       "      <td>7.837477</td>\n",
       "    </tr>\n",
       "    <tr>\n",
       "      <th>3</th>\n",
       "      <td>1986-10-01</td>\n",
       "      <td>2154.962997</td>\n",
       "      <td>0</td>\n",
       "      <td>0</td>\n",
       "      <td>0</td>\n",
       "      <td>1</td>\n",
       "      <td>1986</td>\n",
       "      <td>4</td>\n",
       "      <td>16</td>\n",
       "      <td>7.675529</td>\n",
       "    </tr>\n",
       "    <tr>\n",
       "      <th>4</th>\n",
       "      <td>1987-01-01</td>\n",
       "      <td>1547.818996</td>\n",
       "      <td>1</td>\n",
       "      <td>0</td>\n",
       "      <td>0</td>\n",
       "      <td>0</td>\n",
       "      <td>1987</td>\n",
       "      <td>5</td>\n",
       "      <td>25</td>\n",
       "      <td>7.344602</td>\n",
       "    </tr>\n",
       "    <tr>\n",
       "      <th>5</th>\n",
       "      <td>1987-04-01</td>\n",
       "      <td>2104.411995</td>\n",
       "      <td>0</td>\n",
       "      <td>1</td>\n",
       "      <td>0</td>\n",
       "      <td>0</td>\n",
       "      <td>1987</td>\n",
       "      <td>6</td>\n",
       "      <td>36</td>\n",
       "      <td>7.651791</td>\n",
       "    </tr>\n",
       "    <tr>\n",
       "      <th>6</th>\n",
       "      <td>1987-07-01</td>\n",
       "      <td>2014.362999</td>\n",
       "      <td>0</td>\n",
       "      <td>0</td>\n",
       "      <td>1</td>\n",
       "      <td>0</td>\n",
       "      <td>1987</td>\n",
       "      <td>7</td>\n",
       "      <td>49</td>\n",
       "      <td>7.608058</td>\n",
       "    </tr>\n",
       "    <tr>\n",
       "      <th>7</th>\n",
       "      <td>1987-10-01</td>\n",
       "      <td>1991.746998</td>\n",
       "      <td>0</td>\n",
       "      <td>0</td>\n",
       "      <td>0</td>\n",
       "      <td>1</td>\n",
       "      <td>1987</td>\n",
       "      <td>8</td>\n",
       "      <td>64</td>\n",
       "      <td>7.596767</td>\n",
       "    </tr>\n",
       "    <tr>\n",
       "      <th>8</th>\n",
       "      <td>1988-01-01</td>\n",
       "      <td>1869.049999</td>\n",
       "      <td>1</td>\n",
       "      <td>0</td>\n",
       "      <td>0</td>\n",
       "      <td>0</td>\n",
       "      <td>1988</td>\n",
       "      <td>9</td>\n",
       "      <td>81</td>\n",
       "      <td>7.533186</td>\n",
       "    </tr>\n",
       "    <tr>\n",
       "      <th>9</th>\n",
       "      <td>1988-04-01</td>\n",
       "      <td>2313.631996</td>\n",
       "      <td>0</td>\n",
       "      <td>1</td>\n",
       "      <td>0</td>\n",
       "      <td>0</td>\n",
       "      <td>1988</td>\n",
       "      <td>10</td>\n",
       "      <td>100</td>\n",
       "      <td>7.746574</td>\n",
       "    </tr>\n",
       "    <tr>\n",
       "      <th>10</th>\n",
       "      <td>1988-07-01</td>\n",
       "      <td>2128.320000</td>\n",
       "      <td>0</td>\n",
       "      <td>0</td>\n",
       "      <td>1</td>\n",
       "      <td>0</td>\n",
       "      <td>1988</td>\n",
       "      <td>11</td>\n",
       "      <td>121</td>\n",
       "      <td>7.663088</td>\n",
       "    </tr>\n",
       "    <tr>\n",
       "      <th>11</th>\n",
       "      <td>1988-10-01</td>\n",
       "      <td>2026.828999</td>\n",
       "      <td>0</td>\n",
       "      <td>0</td>\n",
       "      <td>0</td>\n",
       "      <td>1</td>\n",
       "      <td>1988</td>\n",
       "      <td>12</td>\n",
       "      <td>144</td>\n",
       "      <td>7.614228</td>\n",
       "    </tr>\n",
       "    <tr>\n",
       "      <th>12</th>\n",
       "      <td>1989-01-01</td>\n",
       "      <td>1910.603996</td>\n",
       "      <td>1</td>\n",
       "      <td>0</td>\n",
       "      <td>0</td>\n",
       "      <td>0</td>\n",
       "      <td>1989</td>\n",
       "      <td>13</td>\n",
       "      <td>169</td>\n",
       "      <td>7.555175</td>\n",
       "    </tr>\n",
       "    <tr>\n",
       "      <th>13</th>\n",
       "      <td>1989-04-01</td>\n",
       "      <td>2331.164993</td>\n",
       "      <td>0</td>\n",
       "      <td>1</td>\n",
       "      <td>0</td>\n",
       "      <td>0</td>\n",
       "      <td>1989</td>\n",
       "      <td>14</td>\n",
       "      <td>196</td>\n",
       "      <td>7.754123</td>\n",
       "    </tr>\n",
       "    <tr>\n",
       "      <th>14</th>\n",
       "      <td>1989-07-01</td>\n",
       "      <td>2206.549995</td>\n",
       "      <td>0</td>\n",
       "      <td>0</td>\n",
       "      <td>1</td>\n",
       "      <td>0</td>\n",
       "      <td>1989</td>\n",
       "      <td>15</td>\n",
       "      <td>225</td>\n",
       "      <td>7.699185</td>\n",
       "    </tr>\n",
       "    <tr>\n",
       "      <th>15</th>\n",
       "      <td>1989-10-01</td>\n",
       "      <td>2173.967995</td>\n",
       "      <td>0</td>\n",
       "      <td>0</td>\n",
       "      <td>0</td>\n",
       "      <td>1</td>\n",
       "      <td>1989</td>\n",
       "      <td>16</td>\n",
       "      <td>256</td>\n",
       "      <td>7.684309</td>\n",
       "    </tr>\n",
       "    <tr>\n",
       "      <th>16</th>\n",
       "      <td>1990-01-01</td>\n",
       "      <td>2148.278000</td>\n",
       "      <td>1</td>\n",
       "      <td>0</td>\n",
       "      <td>0</td>\n",
       "      <td>0</td>\n",
       "      <td>1990</td>\n",
       "      <td>17</td>\n",
       "      <td>289</td>\n",
       "      <td>7.672422</td>\n",
       "    </tr>\n",
       "    <tr>\n",
       "      <th>17</th>\n",
       "      <td>1990-04-01</td>\n",
       "      <td>2739.307999</td>\n",
       "      <td>0</td>\n",
       "      <td>1</td>\n",
       "      <td>0</td>\n",
       "      <td>0</td>\n",
       "      <td>1990</td>\n",
       "      <td>18</td>\n",
       "      <td>324</td>\n",
       "      <td>7.915461</td>\n",
       "    </tr>\n",
       "    <tr>\n",
       "      <th>18</th>\n",
       "      <td>1990-07-01</td>\n",
       "      <td>2792.753998</td>\n",
       "      <td>0</td>\n",
       "      <td>0</td>\n",
       "      <td>1</td>\n",
       "      <td>0</td>\n",
       "      <td>1990</td>\n",
       "      <td>19</td>\n",
       "      <td>361</td>\n",
       "      <td>7.934783</td>\n",
       "    </tr>\n",
       "    <tr>\n",
       "      <th>19</th>\n",
       "      <td>1990-10-01</td>\n",
       "      <td>2556.009995</td>\n",
       "      <td>0</td>\n",
       "      <td>0</td>\n",
       "      <td>0</td>\n",
       "      <td>1</td>\n",
       "      <td>1990</td>\n",
       "      <td>20</td>\n",
       "      <td>400</td>\n",
       "      <td>7.846203</td>\n",
       "    </tr>\n",
       "    <tr>\n",
       "      <th>20</th>\n",
       "      <td>1991-01-01</td>\n",
       "      <td>2480.973999</td>\n",
       "      <td>1</td>\n",
       "      <td>0</td>\n",
       "      <td>0</td>\n",
       "      <td>0</td>\n",
       "      <td>1991</td>\n",
       "      <td>21</td>\n",
       "      <td>441</td>\n",
       "      <td>7.816407</td>\n",
       "    </tr>\n",
       "    <tr>\n",
       "      <th>21</th>\n",
       "      <td>1991-04-01</td>\n",
       "      <td>3039.522995</td>\n",
       "      <td>0</td>\n",
       "      <td>1</td>\n",
       "      <td>0</td>\n",
       "      <td>0</td>\n",
       "      <td>1991</td>\n",
       "      <td>22</td>\n",
       "      <td>484</td>\n",
       "      <td>8.019456</td>\n",
       "    </tr>\n",
       "    <tr>\n",
       "      <th>22</th>\n",
       "      <td>1991-07-01</td>\n",
       "      <td>3172.115997</td>\n",
       "      <td>0</td>\n",
       "      <td>0</td>\n",
       "      <td>1</td>\n",
       "      <td>0</td>\n",
       "      <td>1991</td>\n",
       "      <td>23</td>\n",
       "      <td>529</td>\n",
       "      <td>8.062154</td>\n",
       "    </tr>\n",
       "    <tr>\n",
       "      <th>23</th>\n",
       "      <td>1991-10-01</td>\n",
       "      <td>2879.000999</td>\n",
       "      <td>0</td>\n",
       "      <td>0</td>\n",
       "      <td>0</td>\n",
       "      <td>1</td>\n",
       "      <td>1991</td>\n",
       "      <td>24</td>\n",
       "      <td>576</td>\n",
       "      <td>7.965199</td>\n",
       "    </tr>\n",
       "    <tr>\n",
       "      <th>24</th>\n",
       "      <td>1992-01-01</td>\n",
       "      <td>2772.000000</td>\n",
       "      <td>1</td>\n",
       "      <td>0</td>\n",
       "      <td>0</td>\n",
       "      <td>0</td>\n",
       "      <td>1992</td>\n",
       "      <td>25</td>\n",
       "      <td>625</td>\n",
       "      <td>7.927324</td>\n",
       "    </tr>\n",
       "    <tr>\n",
       "      <th>25</th>\n",
       "      <td>1992-04-01</td>\n",
       "      <td>3550.000000</td>\n",
       "      <td>0</td>\n",
       "      <td>1</td>\n",
       "      <td>0</td>\n",
       "      <td>0</td>\n",
       "      <td>1992</td>\n",
       "      <td>26</td>\n",
       "      <td>676</td>\n",
       "      <td>8.174703</td>\n",
       "    </tr>\n",
       "    <tr>\n",
       "      <th>26</th>\n",
       "      <td>1992-07-01</td>\n",
       "      <td>3508.000000</td>\n",
       "      <td>0</td>\n",
       "      <td>0</td>\n",
       "      <td>1</td>\n",
       "      <td>0</td>\n",
       "      <td>1992</td>\n",
       "      <td>27</td>\n",
       "      <td>729</td>\n",
       "      <td>8.162801</td>\n",
       "    </tr>\n",
       "    <tr>\n",
       "      <th>27</th>\n",
       "      <td>1992-10-01</td>\n",
       "      <td>3243.859993</td>\n",
       "      <td>0</td>\n",
       "      <td>0</td>\n",
       "      <td>0</td>\n",
       "      <td>1</td>\n",
       "      <td>1992</td>\n",
       "      <td>28</td>\n",
       "      <td>784</td>\n",
       "      <td>8.084519</td>\n",
       "    </tr>\n",
       "    <tr>\n",
       "      <th>28</th>\n",
       "      <td>1993-01-01</td>\n",
       "      <td>3056.000000</td>\n",
       "      <td>1</td>\n",
       "      <td>0</td>\n",
       "      <td>0</td>\n",
       "      <td>0</td>\n",
       "      <td>1993</td>\n",
       "      <td>29</td>\n",
       "      <td>841</td>\n",
       "      <td>8.024862</td>\n",
       "    </tr>\n",
       "    <tr>\n",
       "      <th>29</th>\n",
       "      <td>1993-04-01</td>\n",
       "      <td>3899.000000</td>\n",
       "      <td>0</td>\n",
       "      <td>1</td>\n",
       "      <td>0</td>\n",
       "      <td>0</td>\n",
       "      <td>1993</td>\n",
       "      <td>30</td>\n",
       "      <td>900</td>\n",
       "      <td>8.268475</td>\n",
       "    </tr>\n",
       "    <tr>\n",
       "      <th>30</th>\n",
       "      <td>1993-07-01</td>\n",
       "      <td>3629.000000</td>\n",
       "      <td>0</td>\n",
       "      <td>0</td>\n",
       "      <td>1</td>\n",
       "      <td>0</td>\n",
       "      <td>1993</td>\n",
       "      <td>31</td>\n",
       "      <td>961</td>\n",
       "      <td>8.196712</td>\n",
       "    </tr>\n",
       "    <tr>\n",
       "      <th>31</th>\n",
       "      <td>1993-10-01</td>\n",
       "      <td>3373.000000</td>\n",
       "      <td>0</td>\n",
       "      <td>0</td>\n",
       "      <td>0</td>\n",
       "      <td>1</td>\n",
       "      <td>1993</td>\n",
       "      <td>32</td>\n",
       "      <td>1024</td>\n",
       "      <td>8.123558</td>\n",
       "    </tr>\n",
       "    <tr>\n",
       "      <th>32</th>\n",
       "      <td>1994-01-01</td>\n",
       "      <td>3352.000000</td>\n",
       "      <td>1</td>\n",
       "      <td>0</td>\n",
       "      <td>0</td>\n",
       "      <td>0</td>\n",
       "      <td>1994</td>\n",
       "      <td>33</td>\n",
       "      <td>1089</td>\n",
       "      <td>8.117312</td>\n",
       "    </tr>\n",
       "    <tr>\n",
       "      <th>33</th>\n",
       "      <td>1994-04-01</td>\n",
       "      <td>4342.000000</td>\n",
       "      <td>0</td>\n",
       "      <td>1</td>\n",
       "      <td>0</td>\n",
       "      <td>0</td>\n",
       "      <td>1994</td>\n",
       "      <td>34</td>\n",
       "      <td>1156</td>\n",
       "      <td>8.376090</td>\n",
       "    </tr>\n",
       "    <tr>\n",
       "      <th>34</th>\n",
       "      <td>1994-07-01</td>\n",
       "      <td>4461.000000</td>\n",
       "      <td>0</td>\n",
       "      <td>0</td>\n",
       "      <td>1</td>\n",
       "      <td>0</td>\n",
       "      <td>1994</td>\n",
       "      <td>35</td>\n",
       "      <td>1225</td>\n",
       "      <td>8.403128</td>\n",
       "    </tr>\n",
       "    <tr>\n",
       "      <th>35</th>\n",
       "      <td>1994-10-01</td>\n",
       "      <td>4017.000000</td>\n",
       "      <td>0</td>\n",
       "      <td>0</td>\n",
       "      <td>0</td>\n",
       "      <td>1</td>\n",
       "      <td>1994</td>\n",
       "      <td>36</td>\n",
       "      <td>1296</td>\n",
       "      <td>8.298291</td>\n",
       "    </tr>\n",
       "    <tr>\n",
       "      <th>36</th>\n",
       "      <td>1995-01-01</td>\n",
       "      <td>3854.000000</td>\n",
       "      <td>1</td>\n",
       "      <td>0</td>\n",
       "      <td>0</td>\n",
       "      <td>0</td>\n",
       "      <td>1995</td>\n",
       "      <td>37</td>\n",
       "      <td>1369</td>\n",
       "      <td>8.256867</td>\n",
       "    </tr>\n",
       "    <tr>\n",
       "      <th>37</th>\n",
       "      <td>1995-04-01</td>\n",
       "      <td>4936.000000</td>\n",
       "      <td>0</td>\n",
       "      <td>1</td>\n",
       "      <td>0</td>\n",
       "      <td>0</td>\n",
       "      <td>1995</td>\n",
       "      <td>38</td>\n",
       "      <td>1444</td>\n",
       "      <td>8.504311</td>\n",
       "    </tr>\n",
       "    <tr>\n",
       "      <th>38</th>\n",
       "      <td>1995-07-01</td>\n",
       "      <td>4895.000000</td>\n",
       "      <td>0</td>\n",
       "      <td>0</td>\n",
       "      <td>1</td>\n",
       "      <td>0</td>\n",
       "      <td>1995</td>\n",
       "      <td>39</td>\n",
       "      <td>1521</td>\n",
       "      <td>8.495970</td>\n",
       "    </tr>\n",
       "    <tr>\n",
       "      <th>39</th>\n",
       "      <td>1995-10-01</td>\n",
       "      <td>4333.000000</td>\n",
       "      <td>0</td>\n",
       "      <td>0</td>\n",
       "      <td>0</td>\n",
       "      <td>1</td>\n",
       "      <td>1995</td>\n",
       "      <td>40</td>\n",
       "      <td>1600</td>\n",
       "      <td>8.374015</td>\n",
       "    </tr>\n",
       "    <tr>\n",
       "      <th>40</th>\n",
       "      <td>1996-01-01</td>\n",
       "      <td>4194.000000</td>\n",
       "      <td>1</td>\n",
       "      <td>0</td>\n",
       "      <td>0</td>\n",
       "      <td>0</td>\n",
       "      <td>1996</td>\n",
       "      <td>41</td>\n",
       "      <td>1681</td>\n",
       "      <td>8.341410</td>\n",
       "    </tr>\n",
       "    <tr>\n",
       "      <th>41</th>\n",
       "      <td>1996-04-01</td>\n",
       "      <td>5253.000000</td>\n",
       "      <td>0</td>\n",
       "      <td>1</td>\n",
       "      <td>0</td>\n",
       "      <td>0</td>\n",
       "      <td>1996</td>\n",
       "      <td>42</td>\n",
       "      <td>1764</td>\n",
       "      <td>8.566555</td>\n",
       "    </tr>\n",
       "  </tbody>\n",
       "</table>\n",
       "</div>"
      ],
      "text/plain": [
       "      Quarter        Sales  quarter_1  quarter_2  quarter_3  quarter_4  year  \\\n",
       "0  1986-01-01  1734.827000          1          0          0          0  1986   \n",
       "1  1986-04-01  2244.960999          0          1          0          0  1986   \n",
       "2  1986-07-01  2533.804993          0          0          1          0  1986   \n",
       "3  1986-10-01  2154.962997          0          0          0          1  1986   \n",
       "4  1987-01-01  1547.818996          1          0          0          0  1987   \n",
       "5  1987-04-01  2104.411995          0          1          0          0  1987   \n",
       "6  1987-07-01  2014.362999          0          0          1          0  1987   \n",
       "7  1987-10-01  1991.746998          0          0          0          1  1987   \n",
       "8  1988-01-01  1869.049999          1          0          0          0  1988   \n",
       "9  1988-04-01  2313.631996          0          1          0          0  1988   \n",
       "10 1988-07-01  2128.320000          0          0          1          0  1988   \n",
       "11 1988-10-01  2026.828999          0          0          0          1  1988   \n",
       "12 1989-01-01  1910.603996          1          0          0          0  1989   \n",
       "13 1989-04-01  2331.164993          0          1          0          0  1989   \n",
       "14 1989-07-01  2206.549995          0          0          1          0  1989   \n",
       "15 1989-10-01  2173.967995          0          0          0          1  1989   \n",
       "16 1990-01-01  2148.278000          1          0          0          0  1990   \n",
       "17 1990-04-01  2739.307999          0          1          0          0  1990   \n",
       "18 1990-07-01  2792.753998          0          0          1          0  1990   \n",
       "19 1990-10-01  2556.009995          0          0          0          1  1990   \n",
       "20 1991-01-01  2480.973999          1          0          0          0  1991   \n",
       "21 1991-04-01  3039.522995          0          1          0          0  1991   \n",
       "22 1991-07-01  3172.115997          0          0          1          0  1991   \n",
       "23 1991-10-01  2879.000999          0          0          0          1  1991   \n",
       "24 1992-01-01  2772.000000          1          0          0          0  1992   \n",
       "25 1992-04-01  3550.000000          0          1          0          0  1992   \n",
       "26 1992-07-01  3508.000000          0          0          1          0  1992   \n",
       "27 1992-10-01  3243.859993          0          0          0          1  1992   \n",
       "28 1993-01-01  3056.000000          1          0          0          0  1993   \n",
       "29 1993-04-01  3899.000000          0          1          0          0  1993   \n",
       "30 1993-07-01  3629.000000          0          0          1          0  1993   \n",
       "31 1993-10-01  3373.000000          0          0          0          1  1993   \n",
       "32 1994-01-01  3352.000000          1          0          0          0  1994   \n",
       "33 1994-04-01  4342.000000          0          1          0          0  1994   \n",
       "34 1994-07-01  4461.000000          0          0          1          0  1994   \n",
       "35 1994-10-01  4017.000000          0          0          0          1  1994   \n",
       "36 1995-01-01  3854.000000          1          0          0          0  1995   \n",
       "37 1995-04-01  4936.000000          0          1          0          0  1995   \n",
       "38 1995-07-01  4895.000000          0          0          1          0  1995   \n",
       "39 1995-10-01  4333.000000          0          0          0          1  1995   \n",
       "40 1996-01-01  4194.000000          1          0          0          0  1996   \n",
       "41 1996-04-01  5253.000000          0          1          0          0  1996   \n",
       "\n",
       "     t  t_squared  log_Sales  \n",
       "0    1          1   7.458663  \n",
       "1    2          4   7.716443  \n",
       "2    3          9   7.837477  \n",
       "3    4         16   7.675529  \n",
       "4    5         25   7.344602  \n",
       "5    6         36   7.651791  \n",
       "6    7         49   7.608058  \n",
       "7    8         64   7.596767  \n",
       "8    9         81   7.533186  \n",
       "9   10        100   7.746574  \n",
       "10  11        121   7.663088  \n",
       "11  12        144   7.614228  \n",
       "12  13        169   7.555175  \n",
       "13  14        196   7.754123  \n",
       "14  15        225   7.699185  \n",
       "15  16        256   7.684309  \n",
       "16  17        289   7.672422  \n",
       "17  18        324   7.915461  \n",
       "18  19        361   7.934783  \n",
       "19  20        400   7.846203  \n",
       "20  21        441   7.816407  \n",
       "21  22        484   8.019456  \n",
       "22  23        529   8.062154  \n",
       "23  24        576   7.965199  \n",
       "24  25        625   7.927324  \n",
       "25  26        676   8.174703  \n",
       "26  27        729   8.162801  \n",
       "27  28        784   8.084519  \n",
       "28  29        841   8.024862  \n",
       "29  30        900   8.268475  \n",
       "30  31        961   8.196712  \n",
       "31  32       1024   8.123558  \n",
       "32  33       1089   8.117312  \n",
       "33  34       1156   8.376090  \n",
       "34  35       1225   8.403128  \n",
       "35  36       1296   8.298291  \n",
       "36  37       1369   8.256867  \n",
       "37  38       1444   8.504311  \n",
       "38  39       1521   8.495970  \n",
       "39  40       1600   8.374015  \n",
       "40  41       1681   8.341410  \n",
       "41  42       1764   8.566555  "
      ]
     },
     "execution_count": 21,
     "metadata": {},
     "output_type": "execute_result"
    }
   ],
   "source": [
    "#one hot encoding\n",
    "ohe = ce.OneHotEncoder(cols=['quarter'])\n",
    "df=ohe.fit_transform(df)\n",
    "df"
   ]
  },
  {
   "cell_type": "code",
   "execution_count": 22,
   "metadata": {},
   "outputs": [
    {
     "name": "stdout",
     "output_type": "stream",
     "text": [
      "<class 'pandas.core.frame.DataFrame'>\n",
      "RangeIndex: 42 entries, 0 to 41\n",
      "Data columns (total 10 columns):\n",
      " #   Column     Non-Null Count  Dtype         \n",
      "---  ------     --------------  -----         \n",
      " 0   Quarter    42 non-null     datetime64[ns]\n",
      " 1   Sales      42 non-null     float64       \n",
      " 2   quarter_1  42 non-null     int64         \n",
      " 3   quarter_2  42 non-null     int64         \n",
      " 4   quarter_3  42 non-null     int64         \n",
      " 5   quarter_4  42 non-null     int64         \n",
      " 6   year       42 non-null     int64         \n",
      " 7   t          42 non-null     int64         \n",
      " 8   t_squared  42 non-null     int64         \n",
      " 9   log_Sales  42 non-null     float64       \n",
      "dtypes: datetime64[ns](1), float64(2), int64(7)\n",
      "memory usage: 3.4 KB\n"
     ]
    }
   ],
   "source": [
    "df.info()"
   ]
  },
  {
   "cell_type": "markdown",
   "metadata": {},
   "source": [
    "### Split Dataset in train and test"
   ]
  },
  {
   "cell_type": "code",
   "execution_count": 23,
   "metadata": {},
   "outputs": [],
   "source": [
    "train = df.iloc[:int(df.shape[0]*0.80)]\n",
    "test = df.iloc[int(df.shape[0]*0.80):]"
   ]
  },
  {
   "cell_type": "markdown",
   "metadata": {},
   "source": [
    "### Linear Model"
   ]
  },
  {
   "cell_type": "code",
   "execution_count": 24,
   "metadata": {},
   "outputs": [
    {
     "data": {
      "text/plain": [
       "811.0635934509903"
      ]
     },
     "execution_count": 24,
     "metadata": {},
     "output_type": "execute_result"
    }
   ],
   "source": [
    "linear_model = smf.ols('Sales~t',data=train).fit()\n",
    "pred_linear =  pd.Series(linear_model.predict(pd.DataFrame(test['t'])))\n",
    "rmse_linear = mean_squared_error(pred_linear,test.Sales,squared=False)\n",
    "rmse_linear"
   ]
  },
  {
   "cell_type": "markdown",
   "metadata": {},
   "source": [
    "### Exponential"
   ]
  },
  {
   "cell_type": "code",
   "execution_count": 25,
   "metadata": {},
   "outputs": [
    {
     "data": {
      "text/plain": [
       "811.0635934509903"
      ]
     },
     "execution_count": 25,
     "metadata": {},
     "output_type": "execute_result"
    }
   ],
   "source": [
    "Exp = smf.ols('log_Sales~t',data=train).fit()\n",
    "pred_Exp = pd.Series(Exp.predict(pd.DataFrame(test['t'])))\n",
    "rmse_Exp = mean_squared_error(pred_linear,test.Sales,squared=False)\n",
    "rmse_Exp"
   ]
  },
  {
   "cell_type": "markdown",
   "metadata": {},
   "source": [
    "### Quadratic"
   ]
  },
  {
   "cell_type": "code",
   "execution_count": 26,
   "metadata": {},
   "outputs": [
    {
     "data": {
      "text/plain": [
       "423.10057375272254"
      ]
     },
     "execution_count": 26,
     "metadata": {},
     "output_type": "execute_result"
    }
   ],
   "source": [
    "Quad = smf.ols('Sales~t+t_squared',data=train).fit()\n",
    "pred_Quad = pd.Series(Quad.predict(test[[\"t\",\"t_squared\"]]))\n",
    "rmse_Quad = mean_squared_error(pred_Quad,test.Sales,squared=False)\n",
    "rmse_Quad"
   ]
  },
  {
   "cell_type": "markdown",
   "metadata": {},
   "source": [
    "### Additive seasonality"
   ]
  },
  {
   "cell_type": "code",
   "execution_count": 27,
   "metadata": {},
   "outputs": [
    {
     "data": {
      "text/plain": [
       "1884.9697647455082"
      ]
     },
     "execution_count": 27,
     "metadata": {},
     "output_type": "execute_result"
    }
   ],
   "source": [
    "add_sea = smf.ols('Sales~quarter_1+quarter_2+quarter_3+quarter_4',data=train).fit()\n",
    "pred_add_sea = pd.Series(add_sea.predict(test[['quarter_1','quarter_2','quarter_3','quarter_4']]))\n",
    "rmse_add_sea = mean_squared_error(pred_add_sea,test.Sales,squared=False)\n",
    "rmse_add_sea"
   ]
  },
  {
   "cell_type": "markdown",
   "metadata": {},
   "source": [
    "### Additive Seasonality Quadratic"
   ]
  },
  {
   "cell_type": "code",
   "execution_count": 28,
   "metadata": {},
   "outputs": [
    {
     "data": {
      "text/plain": [
       "1884.9697647455082"
      ]
     },
     "execution_count": 28,
     "metadata": {},
     "output_type": "execute_result"
    }
   ],
   "source": [
    "add_sea_Quad = smf.ols('Sales~t+t_squared+quarter_1+quarter_2+quarter_3+quarter_4',data=train).fit()\n",
    "pred_add_sea_quad = pd.Series(add_sea_Quad.predict(test[['quarter_1','quarter_2','quarter_3','quarter_4','t','t_squared']]))\n",
    "rmse_add_sea_quad = mean_squared_error(pred_add_sea,test.Sales,squared=False)\n",
    "rmse_add_sea_quad"
   ]
  },
  {
   "cell_type": "markdown",
   "metadata": {},
   "source": [
    "### Multiplicative Seasonality"
   ]
  },
  {
   "cell_type": "code",
   "execution_count": 29,
   "metadata": {},
   "outputs": [
    {
     "data": {
      "text/plain": [
       "4489.4311963881755"
      ]
     },
     "execution_count": 29,
     "metadata": {},
     "output_type": "execute_result"
    }
   ],
   "source": [
    "Mul_sea = smf.ols('log_Sales~quarter_1+quarter_2+quarter_3+quarter_4',data = train).fit()\n",
    "pred_Mult_sea = pd.Series(Mul_sea.predict(test))\n",
    "rmse_Mult_sea = mean_squared_error(pred_Mult_sea,test.Sales,squared=False)\n",
    "rmse_Mult_sea"
   ]
  },
  {
   "cell_type": "markdown",
   "metadata": {},
   "source": [
    "### Multiplicative Additive Seasonality"
   ]
  },
  {
   "cell_type": "code",
   "execution_count": 30,
   "metadata": {},
   "outputs": [
    {
     "data": {
      "text/plain": [
       "4488.970056804817"
      ]
     },
     "execution_count": 30,
     "metadata": {},
     "output_type": "execute_result"
    }
   ],
   "source": [
    "Mul_Add_sea = smf.ols('log_Sales~t+quarter_1+quarter_2+quarter_3+quarter_4',data = train).fit()\n",
    "pred_Mult_add_sea = pd.Series(Mul_Add_sea.predict(test))\n",
    "rmse_Mult_add_sea = mean_squared_error(pred_Mult_add_sea,test.Sales,squared=False)\n",
    "rmse_Mult_add_sea "
   ]
  },
  {
   "cell_type": "markdown",
   "metadata": {},
   "source": [
    "### Simple Exponential Method"
   ]
  },
  {
   "cell_type": "code",
   "execution_count": 31,
   "metadata": {},
   "outputs": [
    {
     "data": {
      "text/plain": [
       "1229.521094631438"
      ]
     },
     "execution_count": 31,
     "metadata": {},
     "output_type": "execute_result"
    }
   ],
   "source": [
    "ses_model = SimpleExpSmoothing(train[\"Sales\"]).fit(smoothing_level=0.2)\n",
    "pred_ses = ses_model.predict(start = test.index[0],end = test.index[-1])\n",
    "rmse_ses = mean_squared_error(pred_ses,test.Sales,squared=False)\n",
    "rmse_ses"
   ]
  },
  {
   "cell_type": "markdown",
   "metadata": {},
   "source": [
    "### Holt method"
   ]
  },
  {
   "cell_type": "code",
   "execution_count": 32,
   "metadata": {},
   "outputs": [
    {
     "data": {
      "text/plain": [
       "1135.3462068267984"
      ]
     },
     "execution_count": 32,
     "metadata": {},
     "output_type": "execute_result"
    }
   ],
   "source": [
    "hw_model = Holt(train[\"Sales\"]).fit(smoothing_level=0.8, smoothing_trend=0.2)\n",
    "pred_hw = hw_model.predict(start = test.index[0],end = test.index[-1])\n",
    "rmse_hw = mean_squared_error(pred_hw,test.Sales,squared=False)\n",
    "rmse_hw"
   ]
  },
  {
   "cell_type": "markdown",
   "metadata": {},
   "source": [
    "### Holts winter exponential smoothing with additive seasonality and additive trend"
   ]
  },
  {
   "cell_type": "code",
   "execution_count": 33,
   "metadata": {},
   "outputs": [
    {
     "data": {
      "text/plain": [
       "524.7993518197693"
      ]
     },
     "execution_count": 33,
     "metadata": {},
     "output_type": "execute_result"
    }
   ],
   "source": [
    "hwe_model_add_add = ExponentialSmoothing(train[\"Sales\"],seasonal=\"add\",trend=\"add\",seasonal_periods=12).fit() #add the trend to the model\n",
    "pred_hwe_add_add = hwe_model_add_add.predict(start = test.index[0],end = test.index[-1])\n",
    "rmse_hwe_add_add = mean_squared_error(pred_hwe_add_add,test.Sales,squared=False)\n",
    "rmse_hwe_add_add"
   ]
  },
  {
   "cell_type": "markdown",
   "metadata": {},
   "source": [
    "### Holts winter exponential smoothing with multiplicative seasonality and additive trend"
   ]
  },
  {
   "cell_type": "code",
   "execution_count": 34,
   "metadata": {},
   "outputs": [
    {
     "data": {
      "text/plain": [
       "350.75451421944683"
      ]
     },
     "execution_count": 34,
     "metadata": {},
     "output_type": "execute_result"
    }
   ],
   "source": [
    "hwe_model_mul_add = ExponentialSmoothing(train[\"Sales\"],seasonal=\"mul\",trend=\"add\",seasonal_periods=12).fit() \n",
    "pred_hwe_mul_add = hwe_model_mul_add.predict(start = test.index[0],end = test.index[-1])\n",
    "rmse_hwe_mul_add = mean_squared_error(pred_hwe_mul_add,test.Sales,squared=False)\n",
    "rmse_hwe_mul_add"
   ]
  },
  {
   "cell_type": "markdown",
   "metadata": {},
   "source": [
    "### Holts winter exponential smoothing with multiplicative seasonality and multiplicative trend"
   ]
  },
  {
   "cell_type": "code",
   "execution_count": 35,
   "metadata": {},
   "outputs": [
    {
     "data": {
      "text/plain": [
       "286.08697484507235"
      ]
     },
     "execution_count": 35,
     "metadata": {},
     "output_type": "execute_result"
    }
   ],
   "source": [
    "hwe_model_mul_mul = ExponentialSmoothing(train[\"Sales\"],seasonal=\"mul\",trend=\"mul\",seasonal_periods=12).fit() \n",
    "pred_hwe_mul_mul = hwe_model_mul_mul.predict(start = test.index[0],end = test.index[-1])\n",
    "rmse_hwe_mul_mul = mean_squared_error(pred_hwe_mul_mul,test.Sales,squared=False)\n",
    "rmse_hwe_mul_mul"
   ]
  },
  {
   "cell_type": "code",
   "execution_count": 36,
   "metadata": {},
   "outputs": [
    {
     "data": {
      "text/html": [
       "<div>\n",
       "<style scoped>\n",
       "    .dataframe tbody tr th:only-of-type {\n",
       "        vertical-align: middle;\n",
       "    }\n",
       "\n",
       "    .dataframe tbody tr th {\n",
       "        vertical-align: top;\n",
       "    }\n",
       "\n",
       "    .dataframe thead th {\n",
       "        text-align: right;\n",
       "    }\n",
       "</style>\n",
       "<table border=\"1\" class=\"dataframe\">\n",
       "  <thead>\n",
       "    <tr style=\"text-align: right;\">\n",
       "      <th></th>\n",
       "      <th>MODEL</th>\n",
       "      <th>RMSE_Values</th>\n",
       "    </tr>\n",
       "  </thead>\n",
       "  <tbody>\n",
       "    <tr>\n",
       "      <th>11</th>\n",
       "      <td>rmse_hwe_mul_mul</td>\n",
       "      <td>286.086975</td>\n",
       "    </tr>\n",
       "    <tr>\n",
       "      <th>10</th>\n",
       "      <td>rmse_hwe_mul_add</td>\n",
       "      <td>350.754514</td>\n",
       "    </tr>\n",
       "    <tr>\n",
       "      <th>2</th>\n",
       "      <td>rmse_Quad</td>\n",
       "      <td>423.100574</td>\n",
       "    </tr>\n",
       "    <tr>\n",
       "      <th>9</th>\n",
       "      <td>rmse_hwe_add_add</td>\n",
       "      <td>524.799352</td>\n",
       "    </tr>\n",
       "    <tr>\n",
       "      <th>0</th>\n",
       "      <td>rmse_linear</td>\n",
       "      <td>811.063593</td>\n",
       "    </tr>\n",
       "    <tr>\n",
       "      <th>1</th>\n",
       "      <td>rmse_Exp</td>\n",
       "      <td>811.063593</td>\n",
       "    </tr>\n",
       "    <tr>\n",
       "      <th>8</th>\n",
       "      <td>rmse_hw</td>\n",
       "      <td>1135.346207</td>\n",
       "    </tr>\n",
       "    <tr>\n",
       "      <th>7</th>\n",
       "      <td>rmse_ses</td>\n",
       "      <td>1229.521095</td>\n",
       "    </tr>\n",
       "    <tr>\n",
       "      <th>3</th>\n",
       "      <td>rmse_add_sea</td>\n",
       "      <td>1884.969765</td>\n",
       "    </tr>\n",
       "    <tr>\n",
       "      <th>4</th>\n",
       "      <td>rmse_add_sea_quad</td>\n",
       "      <td>1884.969765</td>\n",
       "    </tr>\n",
       "    <tr>\n",
       "      <th>6</th>\n",
       "      <td>rmse_Mult_add_sea</td>\n",
       "      <td>4488.970057</td>\n",
       "    </tr>\n",
       "    <tr>\n",
       "      <th>5</th>\n",
       "      <td>rmse_Mult_sea</td>\n",
       "      <td>4489.431196</td>\n",
       "    </tr>\n",
       "  </tbody>\n",
       "</table>\n",
       "</div>"
      ],
      "text/plain": [
       "                MODEL  RMSE_Values\n",
       "11   rmse_hwe_mul_mul   286.086975\n",
       "10   rmse_hwe_mul_add   350.754514\n",
       "2           rmse_Quad   423.100574\n",
       "9    rmse_hwe_add_add   524.799352\n",
       "0         rmse_linear   811.063593\n",
       "1            rmse_Exp   811.063593\n",
       "8             rmse_hw  1135.346207\n",
       "7            rmse_ses  1229.521095\n",
       "3        rmse_add_sea  1884.969765\n",
       "4   rmse_add_sea_quad  1884.969765\n",
       "6   rmse_Mult_add_sea  4488.970057\n",
       "5       rmse_Mult_sea  4489.431196"
      ]
     },
     "execution_count": 36,
     "metadata": {},
     "output_type": "execute_result"
    }
   ],
   "source": [
    "#Compare the results \n",
    "data = {\"MODEL\":pd.Series([\"rmse_linear\",\n",
    "                           \"rmse_Exp\",\n",
    "                           \"rmse_Quad\",\n",
    "                           \"rmse_add_sea\",\n",
    "                           \"rmse_add_sea_quad\",\n",
    "                           \"rmse_Mult_sea\",\n",
    "                           \"rmse_Mult_add_sea\",\n",
    "                           \"rmse_ses\",\n",
    "                           \"rmse_hw\",\n",
    "                           \"rmse_hwe_add_add\",\n",
    "                           \"rmse_hwe_mul_add\",\n",
    "                           \"rmse_hwe_mul_mul\"]),\n",
    "        \"RMSE_Values\":pd.Series([rmse_linear,\n",
    "                                 rmse_Exp,\n",
    "                                 rmse_Quad,\n",
    "                                 rmse_add_sea,\n",
    "                                 rmse_add_sea_quad,\n",
    "                                 rmse_Mult_sea,\n",
    "                                 rmse_Mult_add_sea,\n",
    "                                 rmse_ses,\n",
    "                                 rmse_hw,\n",
    "                                 rmse_hwe_add_add,\n",
    "                                 rmse_hwe_mul_add,\n",
    "                                 rmse_hwe_mul_mul])}\n",
    "table_rmse=pd.DataFrame(data)\n",
    "table_rmse.sort_values(['RMSE_Values'])"
   ]
  },
  {
   "cell_type": "markdown",
   "metadata": {},
   "source": [
    "### Final Model by combining train and test"
   ]
  },
  {
   "cell_type": "code",
   "execution_count": 37,
   "metadata": {},
   "outputs": [],
   "source": [
    "hwe_model_mul_mul = ExponentialSmoothing(df[\"Sales\"],seasonal=\"mul\",trend=\"mul\",seasonal_periods=12).fit()"
   ]
  },
  {
   "cell_type": "code",
   "execution_count": 38,
   "metadata": {},
   "outputs": [
    {
     "data": {
      "text/plain": [
       "42    4961.652740\n",
       "43    4645.977071\n",
       "44    4610.834201\n",
       "45    5883.749554\n",
       "46    5972.711571\n",
       "47    5373.638848\n",
       "48    5137.019702\n",
       "49    6500.464013\n",
       "50    6382.398970\n",
       "51    5765.564396\n",
       "dtype: float64"
      ]
     },
     "execution_count": 38,
     "metadata": {},
     "output_type": "execute_result"
    }
   ],
   "source": [
    "#Forecasting for next 10 time periods\n",
    "hwe_model_mul_mul.forecast(10)"
   ]
  },
  {
   "cell_type": "code",
   "execution_count": null,
   "metadata": {},
   "outputs": [],
   "source": []
  }
 ],
 "metadata": {
  "kernelspec": {
   "display_name": "Python 3",
   "language": "python",
   "name": "python3"
  },
  "language_info": {
   "codemirror_mode": {
    "name": "ipython",
    "version": 3
   },
   "file_extension": ".py",
   "mimetype": "text/x-python",
   "name": "python",
   "nbconvert_exporter": "python",
   "pygments_lexer": "ipython3",
   "version": "3.8.5"
  }
 },
 "nbformat": 4,
 "nbformat_minor": 4
}
